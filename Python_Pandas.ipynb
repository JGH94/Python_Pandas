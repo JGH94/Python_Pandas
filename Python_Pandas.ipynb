{
  "nbformat": 4,
  "nbformat_minor": 0,
  "metadata": {
    "colab": {
      "provenance": [],
      "authorship_tag": "ABX9TyMLYWFI2ZrX0obgNM84YdIl",
      "include_colab_link": true
    },
    "kernelspec": {
      "name": "python3",
      "display_name": "Python 3"
    },
    "language_info": {
      "name": "python"
    }
  },
  "cells": [
    {
      "cell_type": "markdown",
      "metadata": {
        "id": "view-in-github",
        "colab_type": "text"
      },
      "source": [
        "<a href=\"https://colab.research.google.com/github/JGH94/Python_Pandas/blob/main/Python_Pandas.ipynb\" target=\"_parent\"><img src=\"https://colab.research.google.com/assets/colab-badge.svg\" alt=\"Open In Colab\"/></a>"
      ]
    },
    {
      "cell_type": "code",
      "execution_count": 1,
      "metadata": {
        "id": "ypg08NXUMKGc"
      },
      "outputs": [],
      "source": [
        "import pandas as pd\n",
        "import patsy\n",
        "import statsmodels.api as sm\n",
        "import statsmodels.formula.api as smf\n",
        "import random\n",
        "import numpy as np\n",
        "from numpy import nan as NA  "
      ]
    },
    {
      "cell_type": "code",
      "source": [
        "# 기초 Series, DataFrame\n",
        "# Series는 1차원 배열 구조 배열에대한 색인을 갖고있음\n",
        "# DataFrame은 로우와 컬럼에 대한 색인을 가지고 있으며, 파이썬 DIct와 비슷하다\n",
        "# 색인 객체는 변경이 불가능, reindex를 사용하여 야함 \n",
        "series = pd.Series([1,5,-5,3])\n",
        "print(series) \n",
        "dataframe = pd.DataFrame({1,5,-5,3})\n",
        "dataframe"
      ],
      "metadata": {
        "colab": {
          "base_uri": "https://localhost:8080/",
          "height": 267
        },
        "id": "PO-xpvg3M640",
        "outputId": "e9d913d0-8974-4cca-ae54-e80f90f37391"
      },
      "execution_count": 2,
      "outputs": [
        {
          "output_type": "stream",
          "name": "stdout",
          "text": [
            "0    1\n",
            "1    5\n",
            "2   -5\n",
            "3    3\n",
            "dtype: int64\n"
          ]
        },
        {
          "output_type": "execute_result",
          "data": {
            "text/plain": [
              "   0\n",
              "0  3\n",
              "1  1\n",
              "2 -5\n",
              "3  5"
            ],
            "text/html": [
              "\n",
              "  <div id=\"df-1909b382-c5d3-4da8-be2c-339d31222a6a\">\n",
              "    <div class=\"colab-df-container\">\n",
              "      <div>\n",
              "<style scoped>\n",
              "    .dataframe tbody tr th:only-of-type {\n",
              "        vertical-align: middle;\n",
              "    }\n",
              "\n",
              "    .dataframe tbody tr th {\n",
              "        vertical-align: top;\n",
              "    }\n",
              "\n",
              "    .dataframe thead th {\n",
              "        text-align: right;\n",
              "    }\n",
              "</style>\n",
              "<table border=\"1\" class=\"dataframe\">\n",
              "  <thead>\n",
              "    <tr style=\"text-align: right;\">\n",
              "      <th></th>\n",
              "      <th>0</th>\n",
              "    </tr>\n",
              "  </thead>\n",
              "  <tbody>\n",
              "    <tr>\n",
              "      <th>0</th>\n",
              "      <td>3</td>\n",
              "    </tr>\n",
              "    <tr>\n",
              "      <th>1</th>\n",
              "      <td>1</td>\n",
              "    </tr>\n",
              "    <tr>\n",
              "      <th>2</th>\n",
              "      <td>-5</td>\n",
              "    </tr>\n",
              "    <tr>\n",
              "      <th>3</th>\n",
              "      <td>5</td>\n",
              "    </tr>\n",
              "  </tbody>\n",
              "</table>\n",
              "</div>\n",
              "      <button class=\"colab-df-convert\" onclick=\"convertToInteractive('df-1909b382-c5d3-4da8-be2c-339d31222a6a')\"\n",
              "              title=\"Convert this dataframe to an interactive table.\"\n",
              "              style=\"display:none;\">\n",
              "        \n",
              "  <svg xmlns=\"http://www.w3.org/2000/svg\" height=\"24px\"viewBox=\"0 0 24 24\"\n",
              "       width=\"24px\">\n",
              "    <path d=\"M0 0h24v24H0V0z\" fill=\"none\"/>\n",
              "    <path d=\"M18.56 5.44l.94 2.06.94-2.06 2.06-.94-2.06-.94-.94-2.06-.94 2.06-2.06.94zm-11 1L8.5 8.5l.94-2.06 2.06-.94-2.06-.94L8.5 2.5l-.94 2.06-2.06.94zm10 10l.94 2.06.94-2.06 2.06-.94-2.06-.94-.94-2.06-.94 2.06-2.06.94z\"/><path d=\"M17.41 7.96l-1.37-1.37c-.4-.4-.92-.59-1.43-.59-.52 0-1.04.2-1.43.59L10.3 9.45l-7.72 7.72c-.78.78-.78 2.05 0 2.83L4 21.41c.39.39.9.59 1.41.59.51 0 1.02-.2 1.41-.59l7.78-7.78 2.81-2.81c.8-.78.8-2.07 0-2.86zM5.41 20L4 18.59l7.72-7.72 1.47 1.35L5.41 20z\"/>\n",
              "  </svg>\n",
              "      </button>\n",
              "      \n",
              "  <style>\n",
              "    .colab-df-container {\n",
              "      display:flex;\n",
              "      flex-wrap:wrap;\n",
              "      gap: 12px;\n",
              "    }\n",
              "\n",
              "    .colab-df-convert {\n",
              "      background-color: #E8F0FE;\n",
              "      border: none;\n",
              "      border-radius: 50%;\n",
              "      cursor: pointer;\n",
              "      display: none;\n",
              "      fill: #1967D2;\n",
              "      height: 32px;\n",
              "      padding: 0 0 0 0;\n",
              "      width: 32px;\n",
              "    }\n",
              "\n",
              "    .colab-df-convert:hover {\n",
              "      background-color: #E2EBFA;\n",
              "      box-shadow: 0px 1px 2px rgba(60, 64, 67, 0.3), 0px 1px 3px 1px rgba(60, 64, 67, 0.15);\n",
              "      fill: #174EA6;\n",
              "    }\n",
              "\n",
              "    [theme=dark] .colab-df-convert {\n",
              "      background-color: #3B4455;\n",
              "      fill: #D2E3FC;\n",
              "    }\n",
              "\n",
              "    [theme=dark] .colab-df-convert:hover {\n",
              "      background-color: #434B5C;\n",
              "      box-shadow: 0px 1px 3px 1px rgba(0, 0, 0, 0.15);\n",
              "      filter: drop-shadow(0px 1px 2px rgba(0, 0, 0, 0.3));\n",
              "      fill: #FFFFFF;\n",
              "    }\n",
              "  </style>\n",
              "\n",
              "      <script>\n",
              "        const buttonEl =\n",
              "          document.querySelector('#df-1909b382-c5d3-4da8-be2c-339d31222a6a button.colab-df-convert');\n",
              "        buttonEl.style.display =\n",
              "          google.colab.kernel.accessAllowed ? 'block' : 'none';\n",
              "\n",
              "        async function convertToInteractive(key) {\n",
              "          const element = document.querySelector('#df-1909b382-c5d3-4da8-be2c-339d31222a6a');\n",
              "          const dataTable =\n",
              "            await google.colab.kernel.invokeFunction('convertToInteractive',\n",
              "                                                     [key], {});\n",
              "          if (!dataTable) return;\n",
              "\n",
              "          const docLinkHtml = 'Like what you see? Visit the ' +\n",
              "            '<a target=\"_blank\" href=https://colab.research.google.com/notebooks/data_table.ipynb>data table notebook</a>'\n",
              "            + ' to learn more about interactive tables.';\n",
              "          element.innerHTML = '';\n",
              "          dataTable['output_type'] = 'display_data';\n",
              "          await google.colab.output.renderOutput(dataTable, element);\n",
              "          const docLink = document.createElement('div');\n",
              "          docLink.innerHTML = docLinkHtml;\n",
              "          element.appendChild(docLink);\n",
              "        }\n",
              "      </script>\n",
              "    </div>\n",
              "  </div>\n",
              "  "
            ]
          },
          "metadata": {},
          "execution_count": 2
        }
      ]
    },
    {
      "cell_type": "code",
      "source": [
        "# excel, Josn 형태의 다양한 형태의 데이터를 사용.. json 형태의 데이터를 받는 형태\n",
        "import json\n",
        "json_ = \"\"\" {  \"name\": \"WECO\",\n",
        "               \"addr\": \"SEONGNAM\",\n",
        "               \"friends\" : [{\"name\" : \"J\", \"AGE\" : 29},\n",
        "                            {\"name\" : \"K\", \"AGE\" : 25}]}\"\"\"\n",
        "a_json = json.loads(json_) # python 형태로 변환 \n",
        "b_json = json.dumps(a_json)# python 객체를 json형태로 변환\n",
        "print(a_json,type(a_json))\n",
        "print(b_json,type(b_json))\n",
        "\n",
        "# json 형태를 DataFrame으로 가져옴\n",
        "c_json = pd.DataFrame(a_json['friends'], columns = [\"name\",\"AGE\"]) \n",
        "c_json "
      ],
      "metadata": {
        "colab": {
          "base_uri": "https://localhost:8080/",
          "height": 149
        },
        "id": "9lJb11IBSprT",
        "outputId": "493bdd77-0c12-40db-9e8c-705b5d38bc10"
      },
      "execution_count": 3,
      "outputs": [
        {
          "output_type": "stream",
          "name": "stdout",
          "text": [
            "{'name': 'WECO', 'addr': 'SEONGNAM', 'friends': [{'name': 'J', 'AGE': 29}, {'name': 'K', 'AGE': 25}]} <class 'dict'>\n",
            "{\"name\": \"WECO\", \"addr\": \"SEONGNAM\", \"friends\": [{\"name\": \"J\", \"AGE\": 29}, {\"name\": \"K\", \"AGE\": 25}]} <class 'str'>\n"
          ]
        },
        {
          "output_type": "execute_result",
          "data": {
            "text/plain": [
              "  name  AGE\n",
              "0    J   29\n",
              "1    K   25"
            ],
            "text/html": [
              "\n",
              "  <div id=\"df-ae56a6d7-277b-4795-9379-07b3047a4f46\">\n",
              "    <div class=\"colab-df-container\">\n",
              "      <div>\n",
              "<style scoped>\n",
              "    .dataframe tbody tr th:only-of-type {\n",
              "        vertical-align: middle;\n",
              "    }\n",
              "\n",
              "    .dataframe tbody tr th {\n",
              "        vertical-align: top;\n",
              "    }\n",
              "\n",
              "    .dataframe thead th {\n",
              "        text-align: right;\n",
              "    }\n",
              "</style>\n",
              "<table border=\"1\" class=\"dataframe\">\n",
              "  <thead>\n",
              "    <tr style=\"text-align: right;\">\n",
              "      <th></th>\n",
              "      <th>name</th>\n",
              "      <th>AGE</th>\n",
              "    </tr>\n",
              "  </thead>\n",
              "  <tbody>\n",
              "    <tr>\n",
              "      <th>0</th>\n",
              "      <td>J</td>\n",
              "      <td>29</td>\n",
              "    </tr>\n",
              "    <tr>\n",
              "      <th>1</th>\n",
              "      <td>K</td>\n",
              "      <td>25</td>\n",
              "    </tr>\n",
              "  </tbody>\n",
              "</table>\n",
              "</div>\n",
              "      <button class=\"colab-df-convert\" onclick=\"convertToInteractive('df-ae56a6d7-277b-4795-9379-07b3047a4f46')\"\n",
              "              title=\"Convert this dataframe to an interactive table.\"\n",
              "              style=\"display:none;\">\n",
              "        \n",
              "  <svg xmlns=\"http://www.w3.org/2000/svg\" height=\"24px\"viewBox=\"0 0 24 24\"\n",
              "       width=\"24px\">\n",
              "    <path d=\"M0 0h24v24H0V0z\" fill=\"none\"/>\n",
              "    <path d=\"M18.56 5.44l.94 2.06.94-2.06 2.06-.94-2.06-.94-.94-2.06-.94 2.06-2.06.94zm-11 1L8.5 8.5l.94-2.06 2.06-.94-2.06-.94L8.5 2.5l-.94 2.06-2.06.94zm10 10l.94 2.06.94-2.06 2.06-.94-2.06-.94-.94-2.06-.94 2.06-2.06.94z\"/><path d=\"M17.41 7.96l-1.37-1.37c-.4-.4-.92-.59-1.43-.59-.52 0-1.04.2-1.43.59L10.3 9.45l-7.72 7.72c-.78.78-.78 2.05 0 2.83L4 21.41c.39.39.9.59 1.41.59.51 0 1.02-.2 1.41-.59l7.78-7.78 2.81-2.81c.8-.78.8-2.07 0-2.86zM5.41 20L4 18.59l7.72-7.72 1.47 1.35L5.41 20z\"/>\n",
              "  </svg>\n",
              "      </button>\n",
              "      \n",
              "  <style>\n",
              "    .colab-df-container {\n",
              "      display:flex;\n",
              "      flex-wrap:wrap;\n",
              "      gap: 12px;\n",
              "    }\n",
              "\n",
              "    .colab-df-convert {\n",
              "      background-color: #E8F0FE;\n",
              "      border: none;\n",
              "      border-radius: 50%;\n",
              "      cursor: pointer;\n",
              "      display: none;\n",
              "      fill: #1967D2;\n",
              "      height: 32px;\n",
              "      padding: 0 0 0 0;\n",
              "      width: 32px;\n",
              "    }\n",
              "\n",
              "    .colab-df-convert:hover {\n",
              "      background-color: #E2EBFA;\n",
              "      box-shadow: 0px 1px 2px rgba(60, 64, 67, 0.3), 0px 1px 3px 1px rgba(60, 64, 67, 0.15);\n",
              "      fill: #174EA6;\n",
              "    }\n",
              "\n",
              "    [theme=dark] .colab-df-convert {\n",
              "      background-color: #3B4455;\n",
              "      fill: #D2E3FC;\n",
              "    }\n",
              "\n",
              "    [theme=dark] .colab-df-convert:hover {\n",
              "      background-color: #434B5C;\n",
              "      box-shadow: 0px 1px 3px 1px rgba(0, 0, 0, 0.15);\n",
              "      filter: drop-shadow(0px 1px 2px rgba(0, 0, 0, 0.3));\n",
              "      fill: #FFFFFF;\n",
              "    }\n",
              "  </style>\n",
              "\n",
              "      <script>\n",
              "        const buttonEl =\n",
              "          document.querySelector('#df-ae56a6d7-277b-4795-9379-07b3047a4f46 button.colab-df-convert');\n",
              "        buttonEl.style.display =\n",
              "          google.colab.kernel.accessAllowed ? 'block' : 'none';\n",
              "\n",
              "        async function convertToInteractive(key) {\n",
              "          const element = document.querySelector('#df-ae56a6d7-277b-4795-9379-07b3047a4f46');\n",
              "          const dataTable =\n",
              "            await google.colab.kernel.invokeFunction('convertToInteractive',\n",
              "                                                     [key], {});\n",
              "          if (!dataTable) return;\n",
              "\n",
              "          const docLinkHtml = 'Like what you see? Visit the ' +\n",
              "            '<a target=\"_blank\" href=https://colab.research.google.com/notebooks/data_table.ipynb>data table notebook</a>'\n",
              "            + ' to learn more about interactive tables.';\n",
              "          element.innerHTML = '';\n",
              "          dataTable['output_type'] = 'display_data';\n",
              "          await google.colab.output.renderOutput(dataTable, element);\n",
              "          const docLink = document.createElement('div');\n",
              "          docLink.innerHTML = docLinkHtml;\n",
              "          element.appendChild(docLink);\n",
              "        }\n",
              "      </script>\n",
              "    </div>\n",
              "  </div>\n",
              "  "
            ]
          },
          "metadata": {},
          "execution_count": 3
        }
      ]
    },
    {
      "cell_type": "code",
      "source": [
        "# null 값 제거 \n",
        "#Series\n",
        "print('1.Series') \n",
        "Slist_ = pd.Series([1,NA,3,NA,5,NA, 7])\n",
        "print(Slist_)\n",
        "print('-------------------------------------------')\n",
        "print(Slist_.dropna()) \n",
        "#DataFrame\n",
        "print('2.DataFrame') \n",
        "Dlist_ = pd.DataFrame([[1,5,3],[1,NA,5],[NA,NA,NA],[NA,5,3]])\n",
        "print(Dlist_)\n",
        "print('-------------------------------------------') \n",
        "#null 값을 하나라도 포함하면 제거\n",
        "print('3.null 값을 하나라도 포함하면 제거') \n",
        "Dlist_D = Dlist_.dropna();\n",
        "print(Dlist_D)\n",
        "print('-------------------------------------------') \n",
        "#null 값이 전부인 로우만 제거\n",
        "print('4. null 값이 전부인 로우만 제거') \n",
        "Dlist_R = Dlist_.dropna(how='all')\n",
        "print(Dlist_R)\n",
        "print('-------------------------------------------') \n",
        "#Col도 적용가능\n",
        "print('5. Col도 적용가능') \n",
        "Dlist_[4] = NA # 4번째 컬럼에 null 값 적용\n",
        "print(Dlist_)\n",
        "Dlist_C = Dlist_.dropna(how='all', axis=1)\n",
        "print(Dlist_C) "
      ],
      "metadata": {
        "colab": {
          "base_uri": "https://localhost:8080/"
        },
        "id": "L9Oie6Vv-vuR",
        "outputId": "1129d5c2-9dd7-4d84-cfb3-dd3734b9db02"
      },
      "execution_count": 4,
      "outputs": [
        {
          "output_type": "stream",
          "name": "stdout",
          "text": [
            "1.Series\n",
            "0    1.0\n",
            "1    NaN\n",
            "2    3.0\n",
            "3    NaN\n",
            "4    5.0\n",
            "5    NaN\n",
            "6    7.0\n",
            "dtype: float64\n",
            "-------------------------------------------\n",
            "0    1.0\n",
            "2    3.0\n",
            "4    5.0\n",
            "6    7.0\n",
            "dtype: float64\n",
            "2.DataFrame\n",
            "     0    1    2\n",
            "0  1.0  5.0  3.0\n",
            "1  1.0  NaN  5.0\n",
            "2  NaN  NaN  NaN\n",
            "3  NaN  5.0  3.0\n",
            "-------------------------------------------\n",
            "3.null 값을 하나라도 포함하면 제거\n",
            "     0    1    2\n",
            "0  1.0  5.0  3.0\n",
            "-------------------------------------------\n",
            "4. null 값이 전부인 로우만 제거\n",
            "     0    1    2\n",
            "0  1.0  5.0  3.0\n",
            "1  1.0  NaN  5.0\n",
            "3  NaN  5.0  3.0\n",
            "-------------------------------------------\n",
            "5. Col도 적용가능\n",
            "     0    1    2   4\n",
            "0  1.0  5.0  3.0 NaN\n",
            "1  1.0  NaN  5.0 NaN\n",
            "2  NaN  NaN  NaN NaN\n",
            "3  NaN  5.0  3.0 NaN\n",
            "     0    1    2\n",
            "0  1.0  5.0  3.0\n",
            "1  1.0  NaN  5.0\n",
            "2  NaN  NaN  NaN\n",
            "3  NaN  5.0  3.0\n"
          ]
        }
      ]
    },
    {
      "cell_type": "code",
      "source": [
        "# 결측치 \n",
        "dt_ = pd.DataFrame(np.random.randn(7,3))\n",
        "dt_.iloc[:4,1] = NA\n",
        "dt_.iloc[:2,2] = NA\n",
        "print(dt_)\n",
        "print('------------------------------\\r\\n')\n",
        "print('1. 0으로 채우기')\n",
        "print(dt_.fillna(0))\n",
        "print('------------------------------\\r\\n') \n",
        "print('2. 컬럼마다 다른 값 적용')\n",
        "print(dt_.fillna({1:1, 2:0}))\n",
        "print('------------------------------\\r\\n') \n",
        "print('3. 평균값')\n",
        "print(dt_.fillna(dt_.mean(),limit=2)) # limit은 앞의 몇개, 뒤에 몇개부터 값을 채울지 지정"
      ],
      "metadata": {
        "colab": {
          "base_uri": "https://localhost:8080/"
        },
        "id": "bBUXaJgFDjNI",
        "outputId": "4cf52c2d-1a89-4aec-a4bb-481f1f98ffb4"
      },
      "execution_count": 5,
      "outputs": [
        {
          "output_type": "stream",
          "name": "stdout",
          "text": [
            "          0         1         2\n",
            "0 -1.331282       NaN       NaN\n",
            "1  0.005816       NaN       NaN\n",
            "2 -0.594659       NaN -0.006727\n",
            "3  0.186840       NaN -0.352143\n",
            "4  0.204963  1.372748 -0.138600\n",
            "5 -0.381325 -0.342488 -1.070243\n",
            "6  0.738496  0.851180 -1.398370\n",
            "------------------------------\r\n",
            "\n",
            "1. 0으로 채우기\n",
            "          0         1         2\n",
            "0 -1.331282  0.000000  0.000000\n",
            "1  0.005816  0.000000  0.000000\n",
            "2 -0.594659  0.000000 -0.006727\n",
            "3  0.186840  0.000000 -0.352143\n",
            "4  0.204963  1.372748 -0.138600\n",
            "5 -0.381325 -0.342488 -1.070243\n",
            "6  0.738496  0.851180 -1.398370\n",
            "------------------------------\r\n",
            "\n",
            "2. 컬럼마다 다른 값 적용\n",
            "          0         1         2\n",
            "0 -1.331282  1.000000  0.000000\n",
            "1  0.005816  1.000000  0.000000\n",
            "2 -0.594659  1.000000 -0.006727\n",
            "3  0.186840  1.000000 -0.352143\n",
            "4  0.204963  1.372748 -0.138600\n",
            "5 -0.381325 -0.342488 -1.070243\n",
            "6  0.738496  0.851180 -1.398370\n",
            "------------------------------\r\n",
            "\n",
            "3. 평균값\n",
            "          0         1         2\n",
            "0 -1.331282  0.627147 -0.593217\n",
            "1  0.005816  0.627147 -0.593217\n",
            "2 -0.594659       NaN -0.006727\n",
            "3  0.186840       NaN -0.352143\n",
            "4  0.204963  1.372748 -0.138600\n",
            "5 -0.381325 -0.342488 -1.070243\n",
            "6  0.738496  0.851180 -1.398370\n"
          ]
        }
      ]
    },
    {
      "cell_type": "code",
      "source": [
        "# 중복제거\n",
        "list_ = pd.DataFrame({\"A\":[\"one\",\"tow\"] * 3 + [\"tow\"],\n",
        "                      \"B\":[\"-999\",\"1\",\"2\",\"2\",\"-999\",\"4\",\"4\"]})\n",
        "print(list_) \n",
        "print('------------------------------\\r\\n')  \n",
        "print(list_.duplicated())      # 중복인 항목을 Bool 형태로 반환\n",
        "print('------------------------------\\r\\n')  \n",
        "print(list_.drop_duplicates()) # 해당 중복된 항목 중, True인 애들은 drop\n",
        "print('------------------------------\\r\\n')  \n",
        "print(list_.replace('-999',  np.nan)) # 해당하는 값을 치환\n"
      ],
      "metadata": {
        "colab": {
          "base_uri": "https://localhost:8080/"
        },
        "id": "zt8u01aIpNm_",
        "outputId": "e5178100-bda9-4bdb-857b-1f30975d007e"
      },
      "execution_count": 6,
      "outputs": [
        {
          "output_type": "stream",
          "name": "stdout",
          "text": [
            "     A     B\n",
            "0  one  -999\n",
            "1  tow     1\n",
            "2  one     2\n",
            "3  tow     2\n",
            "4  one  -999\n",
            "5  tow     4\n",
            "6  tow     4\n",
            "------------------------------\r\n",
            "\n",
            "0    False\n",
            "1    False\n",
            "2    False\n",
            "3    False\n",
            "4     True\n",
            "5    False\n",
            "6     True\n",
            "dtype: bool\n",
            "------------------------------\r\n",
            "\n",
            "     A     B\n",
            "0  one  -999\n",
            "1  tow     1\n",
            "2  one     2\n",
            "3  tow     2\n",
            "5  tow     4\n",
            "------------------------------\r\n",
            "\n",
            "     A    B\n",
            "0  one  NaN\n",
            "1  tow    1\n",
            "2  one    2\n",
            "3  tow    2\n",
            "4  one  NaN\n",
            "5  tow    4\n",
            "6  tow    4\n"
          ]
        }
      ]
    },
    {
      "cell_type": "code",
      "source": [
        "# Row, Col 명 rename\n",
        "\n",
        "list_ = pd.DataFrame(np.arange(12).reshape((3,4)), index=['A','B','c'], columns=['one','Tow','three','four']) \n",
        "list_.index = list_.index.map(lambda x: x[:4].upper()) # 대문자 변경 index\n",
        "print(list_)\n",
        "print('------------------------------------------------------------------')\n",
        "list_2 = pd.DataFrame(np.arange(12).reshape((3,4)), index=['A','B','c'], columns=['one','Tow','three','four']) \n",
        "list_2 = list_2.rename(index=str.title, columns = str.upper) # 대문자 변경 다른방식\n",
        "print(list_2)\n",
        "print('------------------------------------------------------------------')\n",
        "list_3 = pd.DataFrame(np.arange(12).reshape((3,4)), index=['A','B','c'], columns=['one','Tow','three','four']) \n",
        "list_3.rename(index={'A':'D'}, columns = {'Tow':'five'},inplace = True) # 직접 접근해서 변경\n",
        "print(list_3)"
      ],
      "metadata": {
        "colab": {
          "base_uri": "https://localhost:8080/"
        },
        "id": "GGNz_Ri-i9N8",
        "outputId": "5e78669f-2ad8-4516-a11b-98b228e88a28"
      },
      "execution_count": 7,
      "outputs": [
        {
          "output_type": "stream",
          "name": "stdout",
          "text": [
            "   one  Tow  three  four\n",
            "A    0    1      2     3\n",
            "B    4    5      6     7\n",
            "C    8    9     10    11\n",
            "------------------------------------------------------------------\n",
            "   ONE  TOW  THREE  FOUR\n",
            "A    0    1      2     3\n",
            "B    4    5      6     7\n",
            "C    8    9     10    11\n",
            "------------------------------------------------------------------\n",
            "   one  five  three  four\n",
            "D    0     1      2     3\n",
            "B    4     5      6     7\n",
            "c    8     9     10    11\n"
          ]
        }
      ]
    },
    {
      "cell_type": "code",
      "source": [
        "# 그룹별, 분류\n",
        "ages = [20,22,25,27,21,23,37,31,61,45,41,32]\n",
        "bins = [18,25,36,60,100]\n",
        "\n",
        "cats = pd.cut(ages, bins)\n",
        "print(pd.value_counts(cats))"
      ],
      "metadata": {
        "colab": {
          "base_uri": "https://localhost:8080/"
        },
        "id": "gsc9qJ2Yn0aT",
        "outputId": "7ce0078f-6e7e-4637-8f3b-c56472002fd8"
      },
      "execution_count": 8,
      "outputs": [
        {
          "output_type": "stream",
          "name": "stdout",
          "text": [
            "(18, 25]     5\n",
            "(25, 36]     3\n",
            "(36, 60]     3\n",
            "(60, 100]    1\n",
            "dtype: int64\n"
          ]
        }
      ]
    },
    {
      "cell_type": "code",
      "source": [
        "dict_1 = {\n",
        "    'col1': [1, 2, 3, 4, 5],\n",
        "    'col2': [6, 7, 8, 9, 10],\n",
        "    'col3': [11, 12, 13, 14, 15],\n",
        "    'col4': [16, 17, 18, 19, 20]\n",
        "}\n",
        "# 하나의 컬럼의 값으로 키값으로 등록할수 있음\n",
        "list_1 = pd.DataFrame(dict_1)\n",
        "print(list_1)\n",
        "print('------------------------------------------------------------------') \n",
        "list_2 = list_1.set_index(keys=['col2'], inplace=False, drop=False) # col2를 키값으로\n",
        "print(list_2)\n",
        "print('------------------------------------------------------------------') \n",
        "list_3 = list_1.set_index(keys=['col1'], inplace=False, drop=True) # col1을 키값으로 drop은 키값으로 사용된 컬럼을 드랍하고 결과값을 가져옴\n",
        "print(list_3)"
      ],
      "metadata": {
        "colab": {
          "base_uri": "https://localhost:8080/"
        },
        "id": "evcUO7l7wBlK",
        "outputId": "2e32fe1e-39f6-4dec-fc52-4f6694d7d613"
      },
      "execution_count": 9,
      "outputs": [
        {
          "output_type": "stream",
          "name": "stdout",
          "text": [
            "   col1  col2  col3  col4\n",
            "0     1     6    11    16\n",
            "1     2     7    12    17\n",
            "2     3     8    13    18\n",
            "3     4     9    14    19\n",
            "4     5    10    15    20\n",
            "------------------------------------------------------------------\n",
            "      col1  col2  col3  col4\n",
            "col2                        \n",
            "6        1     6    11    16\n",
            "7        2     7    12    17\n",
            "8        3     8    13    18\n",
            "9        4     9    14    19\n",
            "10       5    10    15    20\n",
            "------------------------------------------------------------------\n",
            "      col2  col3  col4\n",
            "col1                  \n",
            "1        6    11    16\n",
            "2        7    12    17\n",
            "3        8    13    18\n",
            "4        9    14    19\n",
            "5       10    15    20\n"
          ]
        }
      ]
    },
    {
      "cell_type": "code",
      "source": [
        "# 데이터 이어붙이기\n",
        "arr_  = np.arange(12).reshape((3,4)) \n",
        "arr_2 = np.concatenate([arr_,arr_], axis=1)\n",
        "print(arr_2)\n",
        "print('-----------------------------------------------')\n",
        "\n",
        "A_1 = pd.Series([0,1], index=['a','b'])\n",
        "A_2 = pd.Series([2,3,4], index=['c','d','e'])\n",
        "A_3 = pd.Series([5,6], index=['f','g'])\n",
        "\n",
        "A_A = pd.concat([A_1,A_2,A_3])\n",
        "print(A_A)\n",
        "print('-----------------------------------------------')\n",
        "A_A_2 = pd.concat([A_1,A_2,A_3], axis = 1) # axis =1 로 설정하면 DataFrame으로 설정됨\n",
        "print(A_A_2)"
      ],
      "metadata": {
        "colab": {
          "base_uri": "https://localhost:8080/"
        },
        "id": "EHDpd-yINU8d",
        "outputId": "d4769e2b-921a-4e76-d3c4-6d761a48000c"
      },
      "execution_count": 10,
      "outputs": [
        {
          "output_type": "stream",
          "name": "stdout",
          "text": [
            "[[ 0  1  2  3  0  1  2  3]\n",
            " [ 4  5  6  7  4  5  6  7]\n",
            " [ 8  9 10 11  8  9 10 11]]\n",
            "-----------------------------------------------\n",
            "a    0\n",
            "b    1\n",
            "c    2\n",
            "d    3\n",
            "e    4\n",
            "f    5\n",
            "g    6\n",
            "dtype: int64\n",
            "-----------------------------------------------\n",
            "     0    1    2\n",
            "a  0.0  NaN  NaN\n",
            "b  1.0  NaN  NaN\n",
            "c  NaN  2.0  NaN\n",
            "d  NaN  3.0  NaN\n",
            "e  NaN  4.0  NaN\n",
            "f  NaN  NaN  5.0\n",
            "g  NaN  NaN  6.0\n"
          ]
        }
      ]
    },
    {
      "cell_type": "code",
      "source": [
        "# 피벗\n",
        "list_ = pd.DataFrame(np.arange(6).reshape((2,3)), index = pd.Index(['A','B'], name = 'state'), columns= pd.Index(['one', 'tow','three'], name = 'number'))\n",
        "print(list_)\n",
        "print('----------------------------------------------------------')\n",
        "list_2 = list_.stack()\n",
        "print(list_2) # stack 피벗 진행\n",
        "print('----------------------------------------------------------')\n",
        "print(list_2.unstack()) # 다시 원상복구!\n",
        "print('----------------------------------------------------------')\n",
        "print(list_2.unstack(0)) # 컬럼 로우 index 회전"
      ],
      "metadata": {
        "colab": {
          "base_uri": "https://localhost:8080/"
        },
        "id": "FKx_kIL-YfD9",
        "outputId": "5600fa60-a6db-4a98-e1a8-c8335e355252"
      },
      "execution_count": 11,
      "outputs": [
        {
          "output_type": "stream",
          "name": "stdout",
          "text": [
            "number  one  tow  three\n",
            "state                  \n",
            "A         0    1      2\n",
            "B         3    4      5\n",
            "----------------------------------------------------------\n",
            "state  number\n",
            "A      one       0\n",
            "       tow       1\n",
            "       three     2\n",
            "B      one       3\n",
            "       tow       4\n",
            "       three     5\n",
            "dtype: int64\n",
            "----------------------------------------------------------\n",
            "number  one  tow  three\n",
            "state                  \n",
            "A         0    1      2\n",
            "B         3    4      5\n",
            "----------------------------------------------------------\n",
            "state   A  B\n",
            "number      \n",
            "one     0  3\n",
            "tow     1  4\n",
            "three   2  5\n"
          ]
        }
      ]
    },
    {
      "cell_type": "code",
      "source": [
        "# 데이터 추가 방식\n",
        "list_ = pd.DataFrame(np.arange(6).reshape((2,3)), index = pd.Index(['A','B']), columns= pd.Index(['one', 'tow','three']))\n",
        "print(list_)\n",
        "print('------------------------------------------------------------')\n",
        "list_['four'] = list_['one'] + list_['tow'] + list_['three']\n",
        "print(list_)\n",
        "print('------------------------------------------------------------') \n",
        "four_ = list_.groupby(['one','tow'])\n",
        "print(four_['four'].agg('mean'))\n",
        "print('------------------------------------------------------------')\n",
        "grouped_four = list_['four']\n",
        "print(grouped_four)\n",
        "print(grouped_four.agg('mean')) \n",
        "print(grouped_four.agg(['mean','std']))\n",
        "print('------------------------------------------------------------') \n",
        "fucn = ['count','mean', 'max']\n",
        "Rlist_ = four_['one','tow'].agg(fucn)\n",
        "print(Rlist_)"
      ],
      "metadata": {
        "colab": {
          "base_uri": "https://localhost:8080/"
        },
        "id": "VKWiQvpA_b3F",
        "outputId": "fd307e75-eb31-4da4-a45f-2e8afc382ddc"
      },
      "execution_count": 12,
      "outputs": [
        {
          "output_type": "stream",
          "name": "stdout",
          "text": [
            "   one  tow  three\n",
            "A    0    1      2\n",
            "B    3    4      5\n",
            "------------------------------------------------------------\n",
            "   one  tow  three  four\n",
            "A    0    1      2     3\n",
            "B    3    4      5    12\n",
            "------------------------------------------------------------\n",
            "one  tow\n",
            "0    1       3.0\n",
            "3    4      12.0\n",
            "Name: four, dtype: float64\n",
            "------------------------------------------------------------\n",
            "A     3\n",
            "B    12\n",
            "Name: four, dtype: int64\n",
            "7.5\n",
            "mean    7.500000\n",
            "std     6.363961\n",
            "Name: four, dtype: float64\n",
            "------------------------------------------------------------\n",
            "          one            tow         \n",
            "        count mean max count mean max\n",
            "one tow                              \n",
            "0   1       1  0.0   0     1  1.0   1\n",
            "3   4       1  3.0   3     1  4.0   4\n"
          ]
        },
        {
          "output_type": "stream",
          "name": "stderr",
          "text": [
            "<ipython-input-12-e21f043b1cb9>:17: FutureWarning: Indexing with multiple keys (implicitly converted to a tuple of keys) will be deprecated, use a list instead.\n",
            "  Rlist_ = four_['one','tow'].agg(fucn)\n"
          ]
        }
      ]
    },
    {
      "cell_type": "code",
      "source": [
        "list_  = pd.DatetimeIndex(['1/1/2000','1/2/2000','1/2/2000','1/2/2000','1/3/2000']) \n",
        "print(list_)\n",
        "print('---------------------------------------------------------')\n",
        "# 2 의 중복된 index 값이 다르다.\n",
        "dup_ts = pd.Series(np.arange(5), index = list_)\n",
        "print(dup_ts)\n",
        "# 중복된 값이 있는 지 확인 false면 중복된 값이 있음\n",
        "dup_ts.index.is_unique \n",
        "group_ = dup_ts.groupby(level=0)  \n",
        "print(group_.mean())\n",
        "print(group_.count()) \n",
        "print('---------------------------------------------------------')\n",
        "# 날짜 범위 생성\n",
        "index = pd.date_range('2022-01-01', '2022-02-01')\n",
        "print(index)\n",
        "# 2022-01-01 부터 20일 추가\n",
        "index_2 = pd.date_range(start = '2022-01-01', periods = 20)\n",
        "print(index_2)\n",
        "# 2022-01-01 뒤로 20일\n",
        "index_3 = pd.date_range(end='2022-01-01', periods = 20)\n",
        "print(index_3)\n",
        "print('---------------------------------------------------------')\n",
        "# 시간 추가\n",
        "t_index = pd.date_range('2022-01-01', '2022-01-07', freq = '8h')\n",
        "print(t_index)\n",
        "t_list = pd.Series(np.arange(19), index = t_index) "
      ],
      "metadata": {
        "colab": {
          "base_uri": "https://localhost:8080/"
        },
        "id": "O4JQAb3MTIkz",
        "outputId": "d70c1565-901c-4d95-8c27-fee63e0100fa"
      },
      "execution_count": 13,
      "outputs": [
        {
          "output_type": "stream",
          "name": "stdout",
          "text": [
            "DatetimeIndex(['2000-01-01', '2000-01-02', '2000-01-02', '2000-01-02',\n",
            "               '2000-01-03'],\n",
            "              dtype='datetime64[ns]', freq=None)\n",
            "---------------------------------------------------------\n",
            "2000-01-01    0\n",
            "2000-01-02    1\n",
            "2000-01-02    2\n",
            "2000-01-02    3\n",
            "2000-01-03    4\n",
            "dtype: int64\n",
            "2000-01-01    0.0\n",
            "2000-01-02    2.0\n",
            "2000-01-03    4.0\n",
            "dtype: float64\n",
            "2000-01-01    1\n",
            "2000-01-02    3\n",
            "2000-01-03    1\n",
            "dtype: int64\n",
            "---------------------------------------------------------\n",
            "DatetimeIndex(['2022-01-01', '2022-01-02', '2022-01-03', '2022-01-04',\n",
            "               '2022-01-05', '2022-01-06', '2022-01-07', '2022-01-08',\n",
            "               '2022-01-09', '2022-01-10', '2022-01-11', '2022-01-12',\n",
            "               '2022-01-13', '2022-01-14', '2022-01-15', '2022-01-16',\n",
            "               '2022-01-17', '2022-01-18', '2022-01-19', '2022-01-20',\n",
            "               '2022-01-21', '2022-01-22', '2022-01-23', '2022-01-24',\n",
            "               '2022-01-25', '2022-01-26', '2022-01-27', '2022-01-28',\n",
            "               '2022-01-29', '2022-01-30', '2022-01-31', '2022-02-01'],\n",
            "              dtype='datetime64[ns]', freq='D')\n",
            "DatetimeIndex(['2022-01-01', '2022-01-02', '2022-01-03', '2022-01-04',\n",
            "               '2022-01-05', '2022-01-06', '2022-01-07', '2022-01-08',\n",
            "               '2022-01-09', '2022-01-10', '2022-01-11', '2022-01-12',\n",
            "               '2022-01-13', '2022-01-14', '2022-01-15', '2022-01-16',\n",
            "               '2022-01-17', '2022-01-18', '2022-01-19', '2022-01-20'],\n",
            "              dtype='datetime64[ns]', freq='D')\n",
            "DatetimeIndex(['2021-12-13', '2021-12-14', '2021-12-15', '2021-12-16',\n",
            "               '2021-12-17', '2021-12-18', '2021-12-19', '2021-12-20',\n",
            "               '2021-12-21', '2021-12-22', '2021-12-23', '2021-12-24',\n",
            "               '2021-12-25', '2021-12-26', '2021-12-27', '2021-12-28',\n",
            "               '2021-12-29', '2021-12-30', '2021-12-31', '2022-01-01'],\n",
            "              dtype='datetime64[ns]', freq='D')\n",
            "---------------------------------------------------------\n",
            "DatetimeIndex(['2022-01-01 00:00:00', '2022-01-01 08:00:00',\n",
            "               '2022-01-01 16:00:00', '2022-01-02 00:00:00',\n",
            "               '2022-01-02 08:00:00', '2022-01-02 16:00:00',\n",
            "               '2022-01-03 00:00:00', '2022-01-03 08:00:00',\n",
            "               '2022-01-03 16:00:00', '2022-01-04 00:00:00',\n",
            "               '2022-01-04 08:00:00', '2022-01-04 16:00:00',\n",
            "               '2022-01-05 00:00:00', '2022-01-05 08:00:00',\n",
            "               '2022-01-05 16:00:00', '2022-01-06 00:00:00',\n",
            "               '2022-01-06 08:00:00', '2022-01-06 16:00:00',\n",
            "               '2022-01-07 00:00:00'],\n",
            "              dtype='datetime64[ns]', freq='8H')\n"
          ]
        }
      ]
    },
    {
      "cell_type": "code",
      "source": [
        "list_ = pd.Series(['apple', 'orange', 'apple','apple'] * 2)\n",
        "print(list_)\n",
        "print(pd.value_counts(list_))\n",
        "print('---------------------------------------------------------')\n",
        "\n",
        "index_ = pd.Series([0,1,0,0] * 2)\n",
        "dim = pd.Series(['apple', 'orange']) \n",
        "print(index_)\n",
        "print(dim)\n",
        "print('---------------------------------------------------------')\n",
        "print(dim.take(index_))\n",
        "print('---------------------------------------------------------') \n",
        "Fr_ = ['apple', 'orange', 'apple', 'apple'] * 2\n",
        "N = len(Fr_)\n",
        "Df_ = pd.DataFrame({ 'fruit':Fr_,'basket_id':np.arange(N), 'count': np.random.randint(3,15,size=N), 'weight': np.random.uniform(0,4,size=N)}, columns = ['basket_id', 'fruit', 'count', 'weight'])\n",
        "print(Df_)\n",
        "# 범주형 데이터로 변경\n",
        "Fr_C = Df_['fruit'].astype('category')\n",
        "print(Fr_C) \n",
        "print('---------------------------------------------------------')\n",
        "C = Fr_C.values\n",
        "print(type(C)) \n",
        "print(C.categories)\n",
        "print(C.codes)\n",
        "print('---------------------------------------------------------') \n",
        "Df_['fruit'] = Df_['fruit'].astype('category')\n",
        "print(Df_.fruit)"
      ],
      "metadata": {
        "colab": {
          "base_uri": "https://localhost:8080/"
        },
        "id": "2NM7UK6AoZJa",
        "outputId": "af3d2ae1-fdd0-47cf-f494-b82c8b8df38c"
      },
      "execution_count": 14,
      "outputs": [
        {
          "output_type": "stream",
          "name": "stdout",
          "text": [
            "0     apple\n",
            "1    orange\n",
            "2     apple\n",
            "3     apple\n",
            "4     apple\n",
            "5    orange\n",
            "6     apple\n",
            "7     apple\n",
            "dtype: object\n",
            "apple     6\n",
            "orange    2\n",
            "dtype: int64\n",
            "---------------------------------------------------------\n",
            "0    0\n",
            "1    1\n",
            "2    0\n",
            "3    0\n",
            "4    0\n",
            "5    1\n",
            "6    0\n",
            "7    0\n",
            "dtype: int64\n",
            "0     apple\n",
            "1    orange\n",
            "dtype: object\n",
            "---------------------------------------------------------\n",
            "0     apple\n",
            "1    orange\n",
            "0     apple\n",
            "0     apple\n",
            "0     apple\n",
            "1    orange\n",
            "0     apple\n",
            "0     apple\n",
            "dtype: object\n",
            "---------------------------------------------------------\n",
            "   basket_id   fruit  count    weight\n",
            "0          0   apple      6  1.357178\n",
            "1          1  orange      9  2.482185\n",
            "2          2   apple      4  0.950804\n",
            "3          3   apple      3  3.764111\n",
            "4          4   apple     11  0.234244\n",
            "5          5  orange     10  3.356934\n",
            "6          6   apple      9  3.699764\n",
            "7          7   apple      6  1.032761\n",
            "0     apple\n",
            "1    orange\n",
            "2     apple\n",
            "3     apple\n",
            "4     apple\n",
            "5    orange\n",
            "6     apple\n",
            "7     apple\n",
            "Name: fruit, dtype: category\n",
            "Categories (2, object): ['apple', 'orange']\n",
            "---------------------------------------------------------\n",
            "<class 'pandas.core.arrays.categorical.Categorical'>\n",
            "Index(['apple', 'orange'], dtype='object')\n",
            "[0 1 0 0 0 1 0 0]\n",
            "---------------------------------------------------------\n",
            "0     apple\n",
            "1    orange\n",
            "2     apple\n",
            "3     apple\n",
            "4     apple\n",
            "5    orange\n",
            "6     apple\n",
            "7     apple\n",
            "Name: fruit, dtype: category\n",
            "Categories (2, object): ['apple', 'orange']\n"
          ]
        }
      ]
    },
    {
      "cell_type": "code",
      "source": [
        "# Categorical의 메모리 성능\n",
        "np.random.seed(12345)\n",
        "drows_ = np.random.rand(1000)\n",
        "print(drows_[:5])\n",
        "print('---------------------------------------------------------')\n",
        "bins = pd.qcut(drows_, 4, labels=['Q1', 'Q2', 'Q3', 'Q4'])\n",
        "print(bins[:10])\n",
        "print('---------------------------------------------------------') \n",
        "bins = pd.Series(bins, name = 'quartitle')\n",
        "result = (pd.Series(drows_).groupby(bins).agg(['count','min','max']).reset_index())\n",
        "print(result) \n",
        "print('---------------------------------------------------------') \n",
        "N = 1000000\n",
        "draws = pd.Series(np.random.randn(N))\n",
        "labels = pd.Series(['foo','bar','baz','qux'] * (N//4))\n",
        "cat = labels.astype('category')\n",
        "# 같은 데이터여도 categorical 형식은 더 적은 메모리를 사용하고있음\n",
        "print(labels.memory_usage())\n",
        "print(cat.memory_usage())"
      ],
      "metadata": {
        "colab": {
          "base_uri": "https://localhost:8080/"
        },
        "id": "0bKhttvouvei",
        "outputId": "f408c0ef-150b-4c36-a71d-0264a06cf3f9"
      },
      "execution_count": 15,
      "outputs": [
        {
          "output_type": "stream",
          "name": "stdout",
          "text": [
            "[0.92961609 0.31637555 0.18391881 0.20456028 0.56772503]\n",
            "---------------------------------------------------------\n",
            "['Q4', 'Q2', 'Q1', 'Q1', 'Q3', 'Q3', 'Q4', 'Q3', 'Q3', 'Q3']\n",
            "Categories (4, object): ['Q1' < 'Q2' < 'Q3' < 'Q4']\n",
            "---------------------------------------------------------\n",
            "  quartitle  count       min       max\n",
            "0        Q1    250  0.000107  0.258003\n",
            "1        Q2    250  0.258719  0.502532\n",
            "2        Q3    250  0.503929  0.753248\n",
            "3        Q4    250  0.757735  0.999414\n",
            "---------------------------------------------------------\n",
            "8000128\n",
            "1000332\n"
          ]
        }
      ]
    },
    {
      "cell_type": "code",
      "source": [
        "# Group By\n",
        "df = pd.DataFrame({'key' :['a','b','c'] * 4, 'value' : np.arange(12.)})\n",
        "print(df)\n",
        "df_key = df.groupby('key').value\n",
        "print('-----------------------------------------') \n",
        "print(df_key.mean())\n",
        "print('-----------------------------------------')\n",
        "print(df_key.transform(lambda x: x.mean()))\n",
        "print('-----------------------------------------') \n",
        "#내림차순으로\n",
        "print(df_key.transform(lambda x: x.rank(ascending=False)))\n",
        "print('-----------------------------------------') \n",
        "Num_ = 15\n",
        "times_ = pd.date_range('2022-01-01 00:00', freq = '5min', periods = Num_)\n",
        "print(times_)\n",
        "print('-----------------------------------------') \n",
        "df_ = pd.DataFrame({'time' : times_.repeat(3), 'key' : np.tile(['a','b','c'], Num_), 'value' :np.arange(Num_*3)})\n",
        "print(df_[:7]) "
      ],
      "metadata": {
        "colab": {
          "base_uri": "https://localhost:8080/"
        },
        "id": "1uxMo8u-aGun",
        "outputId": "11d64a49-f5ae-4f2f-f14a-2e649c64cc95"
      },
      "execution_count": 16,
      "outputs": [
        {
          "output_type": "stream",
          "name": "stdout",
          "text": [
            "   key  value\n",
            "0    a    0.0\n",
            "1    b    1.0\n",
            "2    c    2.0\n",
            "3    a    3.0\n",
            "4    b    4.0\n",
            "5    c    5.0\n",
            "6    a    6.0\n",
            "7    b    7.0\n",
            "8    c    8.0\n",
            "9    a    9.0\n",
            "10   b   10.0\n",
            "11   c   11.0\n",
            "-----------------------------------------\n",
            "key\n",
            "a    4.5\n",
            "b    5.5\n",
            "c    6.5\n",
            "Name: value, dtype: float64\n",
            "-----------------------------------------\n",
            "0     4.5\n",
            "1     5.5\n",
            "2     6.5\n",
            "3     4.5\n",
            "4     5.5\n",
            "5     6.5\n",
            "6     4.5\n",
            "7     5.5\n",
            "8     6.5\n",
            "9     4.5\n",
            "10    5.5\n",
            "11    6.5\n",
            "Name: value, dtype: float64\n",
            "-----------------------------------------\n",
            "0     4.0\n",
            "1     4.0\n",
            "2     4.0\n",
            "3     3.0\n",
            "4     3.0\n",
            "5     3.0\n",
            "6     2.0\n",
            "7     2.0\n",
            "8     2.0\n",
            "9     1.0\n",
            "10    1.0\n",
            "11    1.0\n",
            "Name: value, dtype: float64\n",
            "-----------------------------------------\n",
            "DatetimeIndex(['2022-01-01 00:00:00', '2022-01-01 00:05:00',\n",
            "               '2022-01-01 00:10:00', '2022-01-01 00:15:00',\n",
            "               '2022-01-01 00:20:00', '2022-01-01 00:25:00',\n",
            "               '2022-01-01 00:30:00', '2022-01-01 00:35:00',\n",
            "               '2022-01-01 00:40:00', '2022-01-01 00:45:00',\n",
            "               '2022-01-01 00:50:00', '2022-01-01 00:55:00',\n",
            "               '2022-01-01 01:00:00', '2022-01-01 01:05:00',\n",
            "               '2022-01-01 01:10:00'],\n",
            "              dtype='datetime64[ns]', freq='5T')\n",
            "-----------------------------------------\n",
            "                 time key  value\n",
            "0 2022-01-01 00:00:00   a      0\n",
            "1 2022-01-01 00:00:00   b      1\n",
            "2 2022-01-01 00:00:00   c      2\n",
            "3 2022-01-01 00:05:00   a      3\n",
            "4 2022-01-01 00:05:00   b      4\n",
            "5 2022-01-01 00:05:00   c      5\n",
            "6 2022-01-01 00:10:00   a      6\n"
          ]
        }
      ]
    },
    {
      "cell_type": "code",
      "source": [
        " # Patsy를 활용한 전처리\n",
        "data_ = pd.DataFrame({'a' : [1,2,3,4,5], 'b':[0.01,-0.01,0.25,-4.1,0], 'c' : [-1.5,0,3.6,1.3,-2]})\n",
        "print(data_)\n",
        "print('------------------------------------')\n",
        "y,X = patsy.dmatrices('c ~a + b', data_)\n",
        "print(y)\n",
        "print('------------------------------------') \n",
        "print(X)\n",
        "print('------------------------------------')\n",
        "print(patsy.dmatrices('c ~ a + b + 0', data_)[1])\n",
        "print('------------------------------------') \n",
        "coef , resid, _, _ = np.linalg.lstsq(X,y)\n",
        "print(coef)\n",
        "print('------------------------------------') \n",
        "print(resid)"
      ],
      "metadata": {
        "colab": {
          "base_uri": "https://localhost:8080/"
        },
        "id": "tOnjdj5RgGDf",
        "outputId": "894a0a95-4843-4329-df54-d2df43a8fe0e"
      },
      "execution_count": 17,
      "outputs": [
        {
          "output_type": "stream",
          "name": "stdout",
          "text": [
            "   a     b    c\n",
            "0  1  0.01 -1.5\n",
            "1  2 -0.01  0.0\n",
            "2  3  0.25  3.6\n",
            "3  4 -4.10  1.3\n",
            "4  5  0.00 -2.0\n",
            "------------------------------------\n",
            "[[-1.5]\n",
            " [ 0. ]\n",
            " [ 3.6]\n",
            " [ 1.3]\n",
            " [-2. ]]\n",
            "------------------------------------\n",
            "[[ 1.    1.    0.01]\n",
            " [ 1.    2.   -0.01]\n",
            " [ 1.    3.    0.25]\n",
            " [ 1.    4.   -4.1 ]\n",
            " [ 1.    5.    0.  ]]\n",
            "------------------------------------\n",
            "[[ 1.    0.01]\n",
            " [ 2.   -0.01]\n",
            " [ 3.    0.25]\n",
            " [ 4.   -4.1 ]\n",
            " [ 5.    0.  ]]\n",
            "------------------------------------\n",
            "[[ 0.31290976]\n",
            " [-0.07910564]\n",
            " [-0.26546384]]\n",
            "------------------------------------\n",
            "[19.63791494]\n"
          ]
        },
        {
          "output_type": "stream",
          "name": "stderr",
          "text": [
            "<ipython-input-17-b7ae5da1c62c>:12: FutureWarning: `rcond` parameter will change to the default of machine precision times ``max(M, N)`` where M and N are the input matrix dimensions.\n",
            "To use the future default and silence this warning we advise to pass `rcond=None`, to keep using the old, explicitly pass `rcond=-1`.\n",
            "  coef , resid, _, _ = np.linalg.lstsq(X,y)\n"
          ]
        }
      ]
    },
    {
      "cell_type": "code",
      "source": [
        "# statsmodels  - 데이터 탐색, 시각화를 위한 라이브러리\n",
        "def dnorm(mean, variance, size = 1):\n",
        "  if isinstance(size, int):\n",
        "    size = size,\n",
        "  return mean + np.sqrt(variance) * np.random.randn(*size)\n",
        "\n",
        "np.random.seed(12345)\n",
        "num_ = 100\n",
        "\n",
        "X_ = np.c_[dnorm(0, 0.4, size = num_),\n",
        "           dnorm(0, 0.6, size = num_),\n",
        "           dnorm(0, 0.2, size = num_)]\n",
        "eps = dnorm(0, 0.1, size = num_)\n",
        "beta = [0.1, 0.3, 0.5]\n",
        "\n",
        "Y_ = np.dot(X_, beta) + eps\n",
        "print(X_[:5])\n",
        "print('--------------------------------')\n",
        "print(Y_[:5])\n",
        "print('--------------------------------')\n",
        "\n",
        "X_model = sm.add_constant(X_)\n",
        "print(X_model[:5])\n",
        "\n",
        "print('--------------------------------')\n",
        "\n",
        "model = sm.OLS(Y_,X_) # 회귀분석\n",
        "results_ = model.fit()\n",
        "results_.params\n",
        "\n",
        "print(results_.summary()) \n",
        "# R-Squared - 데이터에 맞는 정도를 나타내는 지표 중 하나 0~1 사이의 값이며, 0.4 이상이면 괜찮은 모델\n",
        "# coef (계수) - 데이터로 얻는 계수의 추정치, X의 값이 A만큼 상승할때마다 Y 값이 증가할것이다.  "
      ],
      "metadata": {
        "colab": {
          "base_uri": "https://localhost:8080/"
        },
        "id": "5AO4lJc-8yDV",
        "outputId": "c2a0de65-30d1-4bf8-aced-58b2b94d043b"
      },
      "execution_count": 18,
      "outputs": [
        {
          "output_type": "stream",
          "name": "stdout",
          "text": [
            "[[-0.12946849 -1.21275292  0.50422488]\n",
            " [ 0.30291036 -0.43574176 -0.25417986]\n",
            " [-0.32852189 -0.02530153  0.13835097]\n",
            " [-0.35147471 -0.71960511 -0.25821463]\n",
            " [ 1.2432688  -0.37379916 -0.52262905]]\n",
            "--------------------------------\n",
            "[ 0.42786349 -0.67348041 -0.09087764 -0.48949442 -0.12894109]\n",
            "--------------------------------\n",
            "[[ 1.         -0.12946849 -1.21275292  0.50422488]\n",
            " [ 1.          0.30291036 -0.43574176 -0.25417986]\n",
            " [ 1.         -0.32852189 -0.02530153  0.13835097]\n",
            " [ 1.         -0.35147471 -0.71960511 -0.25821463]\n",
            " [ 1.          1.2432688  -0.37379916 -0.52262905]]\n",
            "--------------------------------\n",
            "                                 OLS Regression Results                                \n",
            "=======================================================================================\n",
            "Dep. Variable:                      y   R-squared (uncentered):                   0.430\n",
            "Model:                            OLS   Adj. R-squared (uncentered):              0.413\n",
            "Method:                 Least Squares   F-statistic:                              24.42\n",
            "Date:                Tue, 20 Dec 2022   Prob (F-statistic):                    7.44e-12\n",
            "Time:                        01:39:15   Log-Likelihood:                         -34.305\n",
            "No. Observations:                 100   AIC:                                      74.61\n",
            "Df Residuals:                      97   BIC:                                      82.42\n",
            "Df Model:                           3                                                  \n",
            "Covariance Type:            nonrobust                                                  \n",
            "==============================================================================\n",
            "                 coef    std err          t      P>|t|      [0.025      0.975]\n",
            "------------------------------------------------------------------------------\n",
            "x1             0.1783      0.053      3.364      0.001       0.073       0.283\n",
            "x2             0.2230      0.046      4.818      0.000       0.131       0.315\n",
            "x3             0.5010      0.080      6.237      0.000       0.342       0.660\n",
            "==============================================================================\n",
            "Omnibus:                        4.662   Durbin-Watson:                   2.201\n",
            "Prob(Omnibus):                  0.097   Jarque-Bera (JB):                4.098\n",
            "Skew:                           0.481   Prob(JB):                        0.129\n",
            "Kurtosis:                       3.243   Cond. No.                         1.74\n",
            "==============================================================================\n",
            "\n",
            "Notes:\n",
            "[1] R² is computed without centering (uncentered) since the model does not contain a constant.\n",
            "[2] Standard Errors assume that the covariance matrix of the errors is correctly specified.\n"
          ]
        }
      ]
    },
    {
      "cell_type": "code",
      "source": [
        "# 지금까지 정리\n",
        "X_ = np.c_[dnorm(0, 0.4, size = num_),\n",
        "           dnorm(0, 0.6, size = num_),\n",
        "           dnorm(0, 0.2, size = num_)]\n",
        "Y_ = np.dot(X_, beta) + eps\n",
        "data_ = pd.DataFrame(X_, columns = ['col0', 'col1', 'col2'])\n",
        "data_['y'] = Y_\n",
        "print(data_)\n",
        "print('-------------------------------------')\n",
        "result_= smf.ols('y ~ col0 + col1 + col2', data = data_).fit()\n",
        "print(result_.params)\n",
        "print('-------------------------------------')\n",
        "print(result_.predict(data_[:5]))\n",
        "print('-------------------------------------')\n",
        "print(result_.summary())"
      ],
      "metadata": {
        "colab": {
          "base_uri": "https://localhost:8080/"
        },
        "id": "Q13v_DZBIAol",
        "outputId": "acd1543b-1004-46e1-b343-24183b5541ce"
      },
      "execution_count": 19,
      "outputs": [
        {
          "output_type": "stream",
          "name": "stdout",
          "text": [
            "        col0      col1      col2         y\n",
            "0   0.595502 -0.590117  0.339078  0.604578\n",
            "1   0.337329 -0.256869 -0.230576 -0.604575\n",
            "2   0.225323 -1.356563 -0.264394 -0.636244\n",
            "3  -0.006397  0.487139  0.401037  0.236662\n",
            "4   0.895401  0.218825 -0.434440  0.058154\n",
            "..       ...       ...       ...       ...\n",
            "95 -0.035870 -0.097655 -0.395974 -0.189412\n",
            "96  1.455074  0.308448 -0.572833 -0.268979\n",
            "97  0.360182  0.109713  0.087703  0.535153\n",
            "98  0.941985 -0.204603  0.426930  0.198520\n",
            "99  0.799582 -0.350282 -0.358205 -0.064160\n",
            "\n",
            "[100 rows x 4 columns]\n",
            "-------------------------------------\n",
            "Intercept    0.035031\n",
            "col0         0.168699\n",
            "col1         0.294535\n",
            "col2         0.470331\n",
            "dtype: float64\n",
            "-------------------------------------\n",
            "0    0.121161\n",
            "1   -0.092166\n",
            "2   -0.450865\n",
            "3    0.366052\n",
            "4    0.046206\n",
            "dtype: float64\n",
            "-------------------------------------\n",
            "                            OLS Regression Results                            \n",
            "==============================================================================\n",
            "Dep. Variable:                      y   R-squared:                       0.413\n",
            "Model:                            OLS   Adj. R-squared:                  0.394\n",
            "Method:                 Least Squares   F-statistic:                     22.47\n",
            "Date:                Tue, 20 Dec 2022   Prob (F-statistic):           4.17e-11\n",
            "Time:                        01:39:15   Log-Likelihood:                -35.498\n",
            "No. Observations:                 100   AIC:                             79.00\n",
            "Df Residuals:                      96   BIC:                             89.42\n",
            "Df Model:                           3                                         \n",
            "Covariance Type:            nonrobust                                         \n",
            "==============================================================================\n",
            "                 coef    std err          t      P>|t|      [0.025      0.975]\n",
            "------------------------------------------------------------------------------\n",
            "Intercept      0.0350      0.035      0.993      0.323      -0.035       0.105\n",
            "col0           0.1687      0.056      3.001      0.003       0.057       0.280\n",
            "col1           0.2945      0.051      5.824      0.000       0.194       0.395\n",
            "col2           0.4703      0.082      5.743      0.000       0.308       0.633\n",
            "==============================================================================\n",
            "Omnibus:                        4.157   Durbin-Watson:                   2.137\n",
            "Prob(Omnibus):                  0.125   Jarque-Bera (JB):                3.476\n",
            "Skew:                           0.409   Prob(JB):                        0.176\n",
            "Kurtosis:                       3.405   Cond. No.                         2.34\n",
            "==============================================================================\n",
            "\n",
            "Notes:\n",
            "[1] Standard Errors assume that the covariance matrix of the errors is correctly specified.\n"
          ]
        }
      ]
    },
    {
      "cell_type": "code",
      "source": [
        "# reshape C, 포트란\n",
        "arr_ =  np.arange(12).reshape((3,4))\n",
        "print(arr_)\n",
        "print('------------')\n",
        "print(arr_.ravel()) # 가로 순서 (C)\n",
        "print('------------')\n",
        "print(arr_.ravel('F')) # 새로 순서 (포트란)\n",
        "print('------------')\n",
        "# 이어 붙이기 vstack, hstack\n",
        "arr_3  = np.array([[1,2,3],[4,5,6]])\n",
        "arr_4 = np.array([[7,8,9],[10,11,12]])\n",
        "print('vsatck') \n",
        "re_ = np.vstack((arr_3,arr_4)) # 그대로 이어 붙이기\n",
        "print(re_)\n",
        "print('------------')\n",
        "print('hsatck') \n",
        "re_ = np.hstack((arr_3,arr_4)) # 인덱스로 합치기\n",
        "print(re_)\n",
        "print('------------')\n",
        "# put 인덱스로 치환\n",
        "ar_ = np.arange(5)  # [0,1,2,3,4]\n",
        "np.put(ar_,[0,2],[-11,-22]) # 배열, 치환할 인덱스, 치환할 값으로 넣어주면 됩니다.\n",
        "ar_ # [-11,1,-22,3,4]"
      ],
      "metadata": {
        "colab": {
          "base_uri": "https://localhost:8080/"
        },
        "id": "VbgbVy2pLvcl",
        "outputId": "dce6d0fe-7287-4de3-e1a4-40b823b1961c"
      },
      "execution_count": 33,
      "outputs": [
        {
          "output_type": "stream",
          "name": "stdout",
          "text": [
            "[[ 0  1  2  3]\n",
            " [ 4  5  6  7]\n",
            " [ 8  9 10 11]]\n",
            "------------\n",
            "[ 0  1  2  3  4  5  6  7  8  9 10 11]\n",
            "------------\n",
            "[ 0  4  8  1  5  9  2  6 10  3  7 11]\n",
            "------------\n",
            "vsatck\n",
            "[[ 1  2  3]\n",
            " [ 4  5  6]\n",
            " [ 7  8  9]\n",
            " [10 11 12]]\n",
            "------------\n",
            "hsatck\n",
            "[[ 1  2  3  7  8  9]\n",
            " [ 4  5  6 10 11 12]]\n",
            "------------\n"
          ]
        },
        {
          "output_type": "execute_result",
          "data": {
            "text/plain": [
              "array([-11,   1, -22,   3,   4])"
            ]
          },
          "metadata": {},
          "execution_count": 33
        }
      ]
    },
    {
      "cell_type": "code",
      "source": [],
      "metadata": {
        "colab": {
          "base_uri": "https://localhost:8080/"
        },
        "id": "fnTdrchyUrgu",
        "outputId": "b0fbc6e5-554a-44ce-d562-4db42a52a56a"
      },
      "execution_count": 34,
      "outputs": [
        {
          "output_type": "execute_result",
          "data": {
            "text/plain": [
              "array([ 0,  4,  8, 12, 16])"
            ]
          },
          "metadata": {},
          "execution_count": 34
        }
      ]
    }
  ]
}