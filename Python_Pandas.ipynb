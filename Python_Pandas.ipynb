{
  "nbformat": 4,
  "nbformat_minor": 0,
  "metadata": {
    "colab": {
      "provenance": [],
      "authorship_tag": "ABX9TyOnXLDyV6xQFpxpxwOSHccd",
      "include_colab_link": true
    },
    "kernelspec": {
      "name": "python3",
      "display_name": "Python 3"
    },
    "language_info": {
      "name": "python"
    }
  },
  "cells": [
    {
      "cell_type": "markdown",
      "metadata": {
        "id": "view-in-github",
        "colab_type": "text"
      },
      "source": [
        "<a href=\"https://colab.research.google.com/github/JGH94/Python_Pandas/blob/main/Python_Pandas.ipynb\" target=\"_parent\"><img src=\"https://colab.research.google.com/assets/colab-badge.svg\" alt=\"Open In Colab\"/></a>"
      ]
    },
    {
      "cell_type": "code",
      "execution_count": 1,
      "metadata": {
        "id": "ypg08NXUMKGc"
      },
      "outputs": [],
      "source": [
        "import pandas as pd\n",
        "import numpy as np\n",
        "from numpy import nan as NA "
      ]
    },
    {
      "cell_type": "code",
      "source": [
        "# 기초 Series, DataFrame\n",
        "# Series는 1차원 배열 구조 배열에대한 색인을 갖고있음\n",
        "# DataFrame은 로우와 컬럼에 대한 색인을 가지고 있으며, 파이썬 DIct와 비슷하다\n",
        "# 색인 객체는 변경이 불가능, reindex를 사용하여 야함 \n",
        "series = pd.Series([1,5,-5,3])\n",
        "print(series) \n",
        "dataframe = pd.DataFrame({1,5,-5,3})\n",
        "dataframe"
      ],
      "metadata": {
        "colab": {
          "base_uri": "https://localhost:8080/",
          "height": 261
        },
        "id": "PO-xpvg3M640",
        "outputId": "88ece40f-62b0-4112-b3c9-482a20ecc67b"
      },
      "execution_count": null,
      "outputs": [
        {
          "output_type": "stream",
          "name": "stdout",
          "text": [
            "0    1\n",
            "1    5\n",
            "2   -5\n",
            "3    3\n",
            "dtype: int64\n"
          ]
        },
        {
          "output_type": "execute_result",
          "data": {
            "text/plain": [
              "   0\n",
              "0  3\n",
              "1  1\n",
              "2 -5\n",
              "3  5"
            ],
            "text/html": [
              "\n",
              "  <div id=\"df-79653350-ff02-44f4-9634-0533b8e4acaf\">\n",
              "    <div class=\"colab-df-container\">\n",
              "      <div>\n",
              "<style scoped>\n",
              "    .dataframe tbody tr th:only-of-type {\n",
              "        vertical-align: middle;\n",
              "    }\n",
              "\n",
              "    .dataframe tbody tr th {\n",
              "        vertical-align: top;\n",
              "    }\n",
              "\n",
              "    .dataframe thead th {\n",
              "        text-align: right;\n",
              "    }\n",
              "</style>\n",
              "<table border=\"1\" class=\"dataframe\">\n",
              "  <thead>\n",
              "    <tr style=\"text-align: right;\">\n",
              "      <th></th>\n",
              "      <th>0</th>\n",
              "    </tr>\n",
              "  </thead>\n",
              "  <tbody>\n",
              "    <tr>\n",
              "      <th>0</th>\n",
              "      <td>3</td>\n",
              "    </tr>\n",
              "    <tr>\n",
              "      <th>1</th>\n",
              "      <td>1</td>\n",
              "    </tr>\n",
              "    <tr>\n",
              "      <th>2</th>\n",
              "      <td>-5</td>\n",
              "    </tr>\n",
              "    <tr>\n",
              "      <th>3</th>\n",
              "      <td>5</td>\n",
              "    </tr>\n",
              "  </tbody>\n",
              "</table>\n",
              "</div>\n",
              "      <button class=\"colab-df-convert\" onclick=\"convertToInteractive('df-79653350-ff02-44f4-9634-0533b8e4acaf')\"\n",
              "              title=\"Convert this dataframe to an interactive table.\"\n",
              "              style=\"display:none;\">\n",
              "        \n",
              "  <svg xmlns=\"http://www.w3.org/2000/svg\" height=\"24px\"viewBox=\"0 0 24 24\"\n",
              "       width=\"24px\">\n",
              "    <path d=\"M0 0h24v24H0V0z\" fill=\"none\"/>\n",
              "    <path d=\"M18.56 5.44l.94 2.06.94-2.06 2.06-.94-2.06-.94-.94-2.06-.94 2.06-2.06.94zm-11 1L8.5 8.5l.94-2.06 2.06-.94-2.06-.94L8.5 2.5l-.94 2.06-2.06.94zm10 10l.94 2.06.94-2.06 2.06-.94-2.06-.94-.94-2.06-.94 2.06-2.06.94z\"/><path d=\"M17.41 7.96l-1.37-1.37c-.4-.4-.92-.59-1.43-.59-.52 0-1.04.2-1.43.59L10.3 9.45l-7.72 7.72c-.78.78-.78 2.05 0 2.83L4 21.41c.39.39.9.59 1.41.59.51 0 1.02-.2 1.41-.59l7.78-7.78 2.81-2.81c.8-.78.8-2.07 0-2.86zM5.41 20L4 18.59l7.72-7.72 1.47 1.35L5.41 20z\"/>\n",
              "  </svg>\n",
              "      </button>\n",
              "      \n",
              "  <style>\n",
              "    .colab-df-container {\n",
              "      display:flex;\n",
              "      flex-wrap:wrap;\n",
              "      gap: 12px;\n",
              "    }\n",
              "\n",
              "    .colab-df-convert {\n",
              "      background-color: #E8F0FE;\n",
              "      border: none;\n",
              "      border-radius: 50%;\n",
              "      cursor: pointer;\n",
              "      display: none;\n",
              "      fill: #1967D2;\n",
              "      height: 32px;\n",
              "      padding: 0 0 0 0;\n",
              "      width: 32px;\n",
              "    }\n",
              "\n",
              "    .colab-df-convert:hover {\n",
              "      background-color: #E2EBFA;\n",
              "      box-shadow: 0px 1px 2px rgba(60, 64, 67, 0.3), 0px 1px 3px 1px rgba(60, 64, 67, 0.15);\n",
              "      fill: #174EA6;\n",
              "    }\n",
              "\n",
              "    [theme=dark] .colab-df-convert {\n",
              "      background-color: #3B4455;\n",
              "      fill: #D2E3FC;\n",
              "    }\n",
              "\n",
              "    [theme=dark] .colab-df-convert:hover {\n",
              "      background-color: #434B5C;\n",
              "      box-shadow: 0px 1px 3px 1px rgba(0, 0, 0, 0.15);\n",
              "      filter: drop-shadow(0px 1px 2px rgba(0, 0, 0, 0.3));\n",
              "      fill: #FFFFFF;\n",
              "    }\n",
              "  </style>\n",
              "\n",
              "      <script>\n",
              "        const buttonEl =\n",
              "          document.querySelector('#df-79653350-ff02-44f4-9634-0533b8e4acaf button.colab-df-convert');\n",
              "        buttonEl.style.display =\n",
              "          google.colab.kernel.accessAllowed ? 'block' : 'none';\n",
              "\n",
              "        async function convertToInteractive(key) {\n",
              "          const element = document.querySelector('#df-79653350-ff02-44f4-9634-0533b8e4acaf');\n",
              "          const dataTable =\n",
              "            await google.colab.kernel.invokeFunction('convertToInteractive',\n",
              "                                                     [key], {});\n",
              "          if (!dataTable) return;\n",
              "\n",
              "          const docLinkHtml = 'Like what you see? Visit the ' +\n",
              "            '<a target=\"_blank\" href=https://colab.research.google.com/notebooks/data_table.ipynb>data table notebook</a>'\n",
              "            + ' to learn more about interactive tables.';\n",
              "          element.innerHTML = '';\n",
              "          dataTable['output_type'] = 'display_data';\n",
              "          await google.colab.output.renderOutput(dataTable, element);\n",
              "          const docLink = document.createElement('div');\n",
              "          docLink.innerHTML = docLinkHtml;\n",
              "          element.appendChild(docLink);\n",
              "        }\n",
              "      </script>\n",
              "    </div>\n",
              "  </div>\n",
              "  "
            ]
          },
          "metadata": {},
          "execution_count": 7
        }
      ]
    },
    {
      "cell_type": "code",
      "source": [
        "# excel, Josn 형태의 다양한 형태의 데이터를 사용.. json 형태의 데이터를 받는 형태\n",
        "import json\n",
        "json_ = \"\"\" {  \"name\": \"WECO\",\n",
        "               \"addr\": \"SEONGNAM\",\n",
        "               \"friends\" : [{\"name\" : \"J\", \"AGE\" : 29},\n",
        "                            {\"name\" : \"K\", \"AGE\" : 25}]}\"\"\"\n",
        "a_json = json.loads(json_) # python 형태로 변환 \n",
        "b_json = json.dumps(a_json)# python 객체를 json형태로 변환\n",
        "print(a_json,type(a_json))\n",
        "print(b_json,type(b_json))\n",
        "\n",
        "# json 형태를 DataFrame으로 가져옴\n",
        "c_json = pd.DataFrame(a_json['friends'], columns = [\"name\",\"AGE\"]) \n",
        "c_json "
      ],
      "metadata": {
        "colab": {
          "base_uri": "https://localhost:8080/",
          "height": 147
        },
        "id": "9lJb11IBSprT",
        "outputId": "d69468bc-2ceb-405a-91f8-d9dcf440f5cd"
      },
      "execution_count": null,
      "outputs": [
        {
          "output_type": "stream",
          "name": "stdout",
          "text": [
            "{'name': 'WECO', 'addr': 'SEONGNAM', 'friends': [{'name': 'J', 'AGE': 29}, {'name': 'K', 'AGE': 25}]} <class 'dict'>\n",
            "{\"name\": \"WECO\", \"addr\": \"SEONGNAM\", \"friends\": [{\"name\": \"J\", \"AGE\": 29}, {\"name\": \"K\", \"AGE\": 25}]} <class 'str'>\n"
          ]
        },
        {
          "output_type": "execute_result",
          "data": {
            "text/plain": [
              "  name  AGE\n",
              "0    J   29\n",
              "1    K   25"
            ],
            "text/html": [
              "\n",
              "  <div id=\"df-240fc562-6a6a-422e-a352-f08e0df07a5f\">\n",
              "    <div class=\"colab-df-container\">\n",
              "      <div>\n",
              "<style scoped>\n",
              "    .dataframe tbody tr th:only-of-type {\n",
              "        vertical-align: middle;\n",
              "    }\n",
              "\n",
              "    .dataframe tbody tr th {\n",
              "        vertical-align: top;\n",
              "    }\n",
              "\n",
              "    .dataframe thead th {\n",
              "        text-align: right;\n",
              "    }\n",
              "</style>\n",
              "<table border=\"1\" class=\"dataframe\">\n",
              "  <thead>\n",
              "    <tr style=\"text-align: right;\">\n",
              "      <th></th>\n",
              "      <th>name</th>\n",
              "      <th>AGE</th>\n",
              "    </tr>\n",
              "  </thead>\n",
              "  <tbody>\n",
              "    <tr>\n",
              "      <th>0</th>\n",
              "      <td>J</td>\n",
              "      <td>29</td>\n",
              "    </tr>\n",
              "    <tr>\n",
              "      <th>1</th>\n",
              "      <td>K</td>\n",
              "      <td>25</td>\n",
              "    </tr>\n",
              "  </tbody>\n",
              "</table>\n",
              "</div>\n",
              "      <button class=\"colab-df-convert\" onclick=\"convertToInteractive('df-240fc562-6a6a-422e-a352-f08e0df07a5f')\"\n",
              "              title=\"Convert this dataframe to an interactive table.\"\n",
              "              style=\"display:none;\">\n",
              "        \n",
              "  <svg xmlns=\"http://www.w3.org/2000/svg\" height=\"24px\"viewBox=\"0 0 24 24\"\n",
              "       width=\"24px\">\n",
              "    <path d=\"M0 0h24v24H0V0z\" fill=\"none\"/>\n",
              "    <path d=\"M18.56 5.44l.94 2.06.94-2.06 2.06-.94-2.06-.94-.94-2.06-.94 2.06-2.06.94zm-11 1L8.5 8.5l.94-2.06 2.06-.94-2.06-.94L8.5 2.5l-.94 2.06-2.06.94zm10 10l.94 2.06.94-2.06 2.06-.94-2.06-.94-.94-2.06-.94 2.06-2.06.94z\"/><path d=\"M17.41 7.96l-1.37-1.37c-.4-.4-.92-.59-1.43-.59-.52 0-1.04.2-1.43.59L10.3 9.45l-7.72 7.72c-.78.78-.78 2.05 0 2.83L4 21.41c.39.39.9.59 1.41.59.51 0 1.02-.2 1.41-.59l7.78-7.78 2.81-2.81c.8-.78.8-2.07 0-2.86zM5.41 20L4 18.59l7.72-7.72 1.47 1.35L5.41 20z\"/>\n",
              "  </svg>\n",
              "      </button>\n",
              "      \n",
              "  <style>\n",
              "    .colab-df-container {\n",
              "      display:flex;\n",
              "      flex-wrap:wrap;\n",
              "      gap: 12px;\n",
              "    }\n",
              "\n",
              "    .colab-df-convert {\n",
              "      background-color: #E8F0FE;\n",
              "      border: none;\n",
              "      border-radius: 50%;\n",
              "      cursor: pointer;\n",
              "      display: none;\n",
              "      fill: #1967D2;\n",
              "      height: 32px;\n",
              "      padding: 0 0 0 0;\n",
              "      width: 32px;\n",
              "    }\n",
              "\n",
              "    .colab-df-convert:hover {\n",
              "      background-color: #E2EBFA;\n",
              "      box-shadow: 0px 1px 2px rgba(60, 64, 67, 0.3), 0px 1px 3px 1px rgba(60, 64, 67, 0.15);\n",
              "      fill: #174EA6;\n",
              "    }\n",
              "\n",
              "    [theme=dark] .colab-df-convert {\n",
              "      background-color: #3B4455;\n",
              "      fill: #D2E3FC;\n",
              "    }\n",
              "\n",
              "    [theme=dark] .colab-df-convert:hover {\n",
              "      background-color: #434B5C;\n",
              "      box-shadow: 0px 1px 3px 1px rgba(0, 0, 0, 0.15);\n",
              "      filter: drop-shadow(0px 1px 2px rgba(0, 0, 0, 0.3));\n",
              "      fill: #FFFFFF;\n",
              "    }\n",
              "  </style>\n",
              "\n",
              "      <script>\n",
              "        const buttonEl =\n",
              "          document.querySelector('#df-240fc562-6a6a-422e-a352-f08e0df07a5f button.colab-df-convert');\n",
              "        buttonEl.style.display =\n",
              "          google.colab.kernel.accessAllowed ? 'block' : 'none';\n",
              "\n",
              "        async function convertToInteractive(key) {\n",
              "          const element = document.querySelector('#df-240fc562-6a6a-422e-a352-f08e0df07a5f');\n",
              "          const dataTable =\n",
              "            await google.colab.kernel.invokeFunction('convertToInteractive',\n",
              "                                                     [key], {});\n",
              "          if (!dataTable) return;\n",
              "\n",
              "          const docLinkHtml = 'Like what you see? Visit the ' +\n",
              "            '<a target=\"_blank\" href=https://colab.research.google.com/notebooks/data_table.ipynb>data table notebook</a>'\n",
              "            + ' to learn more about interactive tables.';\n",
              "          element.innerHTML = '';\n",
              "          dataTable['output_type'] = 'display_data';\n",
              "          await google.colab.output.renderOutput(dataTable, element);\n",
              "          const docLink = document.createElement('div');\n",
              "          docLink.innerHTML = docLinkHtml;\n",
              "          element.appendChild(docLink);\n",
              "        }\n",
              "      </script>\n",
              "    </div>\n",
              "  </div>\n",
              "  "
            ]
          },
          "metadata": {},
          "execution_count": 20
        }
      ]
    },
    {
      "cell_type": "code",
      "source": [
        "# null 값 제거 \n",
        "#Series\n",
        "print('1.Series') \n",
        "Slist_ = pd.Series([1,NA,3,NA,5,NA, 7])\n",
        "print(Slist_)\n",
        "print('-------------------------------------------')\n",
        "print(Slist_.dropna()) \n",
        "#DataFrame\n",
        "print('2.DataFrame') \n",
        "Dlist_ = pd.DataFrame([[1,5,3],[1,NA,5],[NA,NA,NA],[NA,5,3]])\n",
        "print(Dlist_)\n",
        "print('-------------------------------------------') \n",
        "#null 값을 하나라도 포함하면 제거\n",
        "print('3.null 값을 하나라도 포함하면 제거') \n",
        "Dlist_D = Dlist_.dropna();\n",
        "print(Dlist_D)\n",
        "print('-------------------------------------------') \n",
        "#null 값이 전부인 로우만 제거\n",
        "print('4. null 값이 전부인 로우만 제거') \n",
        "Dlist_R = Dlist_.dropna(how='all')\n",
        "print(Dlist_R)\n",
        "print('-------------------------------------------') \n",
        "#Col도 적용가능\n",
        "print('5. Col도 적용가능') \n",
        "Dlist_[4] = NA # 4번째 컬럼에 null 값 적용\n",
        "print(Dlist_)\n",
        "Dlist_C = Dlist_.dropna(how='all', axis=1)\n",
        "print(Dlist_C) "
      ],
      "metadata": {
        "colab": {
          "base_uri": "https://localhost:8080/"
        },
        "id": "L9Oie6Vv-vuR",
        "outputId": "ba7b1716-239c-4b41-e8de-95f7a389ba51"
      },
      "execution_count": null,
      "outputs": [
        {
          "output_type": "stream",
          "name": "stdout",
          "text": [
            "1.Series\n",
            "0    1.0\n",
            "1    NaN\n",
            "2    3.0\n",
            "3    NaN\n",
            "4    5.0\n",
            "5    NaN\n",
            "6    7.0\n",
            "dtype: float64\n",
            "-------------------------------------------\n",
            "0    1.0\n",
            "2    3.0\n",
            "4    5.0\n",
            "6    7.0\n",
            "dtype: float64\n",
            "2.DataFrame\n",
            "     0    1    2\n",
            "0  1.0  5.0  3.0\n",
            "1  1.0  NaN  5.0\n",
            "2  NaN  NaN  NaN\n",
            "3  NaN  5.0  3.0\n",
            "-------------------------------------------\n",
            "3.null 값을 하나라도 포함하면 제거\n",
            "     0    1    2\n",
            "0  1.0  5.0  3.0\n",
            "-------------------------------------------\n",
            "4. null 값이 전부인 로우만 제거\n",
            "     0    1    2\n",
            "0  1.0  5.0  3.0\n",
            "1  1.0  NaN  5.0\n",
            "3  NaN  5.0  3.0\n",
            "-------------------------------------------\n",
            "5. Col도 적용가능\n",
            "     0    1    2   4\n",
            "0  1.0  5.0  3.0 NaN\n",
            "1  1.0  NaN  5.0 NaN\n",
            "2  NaN  NaN  NaN NaN\n",
            "3  NaN  5.0  3.0 NaN\n",
            "     0    1    2\n",
            "0  1.0  5.0  3.0\n",
            "1  1.0  NaN  5.0\n",
            "2  NaN  NaN  NaN\n",
            "3  NaN  5.0  3.0\n"
          ]
        }
      ]
    },
    {
      "cell_type": "code",
      "source": [
        "# 결측치 \n",
        "dt_ = pd.DataFrame(np.random.randn(7,3))\n",
        "dt_.iloc[:4,1] = NA\n",
        "dt_.iloc[:2,2] = NA\n",
        "print(dt_)\n",
        "print('------------------------------\\r\\n')\n",
        "print('1. 0으로 채우기')\n",
        "print(dt_.fillna(0))\n",
        "print('------------------------------\\r\\n') \n",
        "print('2. 컬럼마다 다른 값 적용')\n",
        "print(dt_.fillna({1:1, 2:0}))\n",
        "print('------------------------------\\r\\n') \n",
        "print('3. 평균값')\n",
        "print(dt_.fillna(dt_.mean(),limit=2)) # limit은 앞의 몇개, 뒤에 몇개부터 값을 채울지 지정"
      ],
      "metadata": {
        "colab": {
          "base_uri": "https://localhost:8080/"
        },
        "id": "bBUXaJgFDjNI",
        "outputId": "56fb3ab6-439c-4fe9-9765-f2a20dcae4e6"
      },
      "execution_count": null,
      "outputs": [
        {
          "output_type": "stream",
          "name": "stdout",
          "text": [
            "          0         1         2\n",
            "0 -0.130121       NaN       NaN\n",
            "1  0.033178       NaN       NaN\n",
            "2 -0.407143       NaN -0.028968\n",
            "3  1.044228       NaN -0.355387\n",
            "4 -0.544153 -0.830487  0.100461\n",
            "5  0.165255  0.758966  0.277584\n",
            "6  0.662416 -0.443102 -0.832754\n",
            "------------------------------\r\n",
            "\n",
            "1. 0으로 채우기\n",
            "          0         1         2\n",
            "0 -0.130121  0.000000  0.000000\n",
            "1  0.033178  0.000000  0.000000\n",
            "2 -0.407143  0.000000 -0.028968\n",
            "3  1.044228  0.000000 -0.355387\n",
            "4 -0.544153 -0.830487  0.100461\n",
            "5  0.165255  0.758966  0.277584\n",
            "6  0.662416 -0.443102 -0.832754\n",
            "------------------------------\r\n",
            "\n",
            "2. 컬럼마다 다른 값 적용\n",
            "          0         1         2\n",
            "0 -0.130121  1.000000  0.000000\n",
            "1  0.033178  1.000000  0.000000\n",
            "2 -0.407143  1.000000 -0.028968\n",
            "3  1.044228  1.000000 -0.355387\n",
            "4 -0.544153 -0.830487  0.100461\n",
            "5  0.165255  0.758966  0.277584\n",
            "6  0.662416 -0.443102 -0.832754\n",
            "------------------------------\r\n",
            "\n",
            "3. 평균값\n",
            "          0         1         2\n",
            "0 -0.130121 -0.171541 -0.167813\n",
            "1  0.033178 -0.171541 -0.167813\n",
            "2 -0.407143       NaN -0.028968\n",
            "3  1.044228       NaN -0.355387\n",
            "4 -0.544153 -0.830487  0.100461\n",
            "5  0.165255  0.758966  0.277584\n",
            "6  0.662416 -0.443102 -0.832754\n"
          ]
        }
      ]
    },
    {
      "cell_type": "code",
      "source": [
        "# 중복제거\n",
        "list_ = pd.DataFrame({\"A\":[\"one\",\"tow\"] * 3 + [\"tow\"],\n",
        "                      \"B\":[\"-999\",\"1\",\"2\",\"2\",\"-999\",\"4\",\"4\"]})\n",
        "print(list_) \n",
        "print('------------------------------\\r\\n')  \n",
        "print(list_.duplicated())      # 중복인 항목을 Bool 형태로 반환\n",
        "print('------------------------------\\r\\n')  \n",
        "print(list_.drop_duplicates()) # 해당 중복된 항목 중, True인 애들은 drop\n",
        "print('------------------------------\\r\\n')  \n",
        "print(list_.replace('-999',  np.nan)) # 해당하는 값을 치환\n"
      ],
      "metadata": {
        "colab": {
          "base_uri": "https://localhost:8080/"
        },
        "id": "zt8u01aIpNm_",
        "outputId": "2a45eccc-a260-438c-de0a-53299de19dab"
      },
      "execution_count": null,
      "outputs": [
        {
          "output_type": "stream",
          "name": "stdout",
          "text": [
            "     A     B\n",
            "0  one  -999\n",
            "1  tow     1\n",
            "2  one     2\n",
            "3  tow     2\n",
            "4  one  -999\n",
            "5  tow     4\n",
            "6  tow     4\n",
            "------------------------------\r\n",
            "\n",
            "0    False\n",
            "1    False\n",
            "2    False\n",
            "3    False\n",
            "4     True\n",
            "5    False\n",
            "6     True\n",
            "dtype: bool\n",
            "------------------------------\r\n",
            "\n",
            "     A     B\n",
            "0  one  -999\n",
            "1  tow     1\n",
            "2  one     2\n",
            "3  tow     2\n",
            "5  tow     4\n",
            "------------------------------\r\n",
            "\n",
            "     A    B\n",
            "0  one  NaN\n",
            "1  tow    1\n",
            "2  one    2\n",
            "3  tow    2\n",
            "4  one  NaN\n",
            "5  tow    4\n",
            "6  tow    4\n"
          ]
        }
      ]
    },
    {
      "cell_type": "code",
      "source": [
        "# Row, Col 명 rename\n",
        "\n",
        "list_ = pd.DataFrame(np.arange(12).reshape((3,4)), index=['A','B','c'], columns=['one','Tow','three','four']) \n",
        "list_.index = list_.index.map(lambda x: x[:4].upper()) # 대문자 변경 index\n",
        "print(list_)\n",
        "print('------------------------------------------------------------------')\n",
        "list_2 = pd.DataFrame(np.arange(12).reshape((3,4)), index=['A','B','c'], columns=['one','Tow','three','four']) \n",
        "list_2 = list_2.rename(index=str.title, columns = str.upper) # 대문자 변경 다른방식\n",
        "print(list_2)\n",
        "print('------------------------------------------------------------------')\n",
        "list_3 = pd.DataFrame(np.arange(12).reshape((3,4)), index=['A','B','c'], columns=['one','Tow','three','four']) \n",
        "list_3.rename(index={'A':'D'}, columns = {'Tow':'five'},inplace = True) # 직접 접근해서 변경\n",
        "print(list_3)"
      ],
      "metadata": {
        "colab": {
          "base_uri": "https://localhost:8080/"
        },
        "id": "GGNz_Ri-i9N8",
        "outputId": "a3d98831-7228-4c4a-d20a-21247b013c83"
      },
      "execution_count": null,
      "outputs": [
        {
          "output_type": "stream",
          "name": "stdout",
          "text": [
            "   one  Tow  three  four\n",
            "A    0    1      2     3\n",
            "B    4    5      6     7\n",
            "C    8    9     10    11\n",
            "------------------------------------------------------------------\n",
            "   ONE  TOW  THREE  FOUR\n",
            "A    0    1      2     3\n",
            "B    4    5      6     7\n",
            "C    8    9     10    11\n",
            "------------------------------------------------------------------\n",
            "   one  five  three  four\n",
            "D    0     1      2     3\n",
            "B    4     5      6     7\n",
            "c    8     9     10    11\n"
          ]
        }
      ]
    },
    {
      "cell_type": "code",
      "source": [
        "# 그룹별, 분류\n",
        "ages = [20,22,25,27,21,23,37,31,61,45,41,32]\n",
        "bins = [18,25,36,60,100]\n",
        "\n",
        "cats = pd.cut(ages, bins)\n",
        "print(pd.value_counts(cats))"
      ],
      "metadata": {
        "colab": {
          "base_uri": "https://localhost:8080/"
        },
        "id": "gsc9qJ2Yn0aT",
        "outputId": "f9daddeb-a3e5-4bd8-b465-8ec21cf48789"
      },
      "execution_count": null,
      "outputs": [
        {
          "output_type": "stream",
          "name": "stdout",
          "text": [
            "(18, 25]     5\n",
            "(25, 36]     3\n",
            "(36, 60]     3\n",
            "(60, 100]    1\n",
            "dtype: int64\n"
          ]
        }
      ]
    },
    {
      "cell_type": "code",
      "source": [
        "dict_1 = {\n",
        "    'col1': [1, 2, 3, 4, 5],\n",
        "    'col2': [6, 7, 8, 9, 10],\n",
        "    'col3': [11, 12, 13, 14, 15],\n",
        "    'col4': [16, 17, 18, 19, 20]\n",
        "}\n",
        "# 하나의 컬럼의 값으로 키값으로 등록할수 있음\n",
        "list_1 = pd.DataFrame(dict_1)\n",
        "print(list_1)\n",
        "print('------------------------------------------------------------------') \n",
        "list_2 = list_1.set_index(keys=['col2'], inplace=False, drop=False) # col2를 키값으로\n",
        "print(list_2)\n",
        "print('------------------------------------------------------------------') \n",
        "list_3 = list_1.set_index(keys=['col1'], inplace=False, drop=True) # col1을 키값으로 drop은 키값으로 사용된 컬럼을 드랍하고 결과값을 가져옴\n",
        "print(list_3)"
      ],
      "metadata": {
        "colab": {
          "base_uri": "https://localhost:8080/"
        },
        "id": "evcUO7l7wBlK",
        "outputId": "4e2a4785-1cee-4fc6-92bd-dfaad0ffe251"
      },
      "execution_count": null,
      "outputs": [
        {
          "output_type": "stream",
          "name": "stdout",
          "text": [
            "   col1  col2  col3  col4\n",
            "0     1     6    11    16\n",
            "1     2     7    12    17\n",
            "2     3     8    13    18\n",
            "3     4     9    14    19\n",
            "4     5    10    15    20\n",
            "------------------------------------------------------------------\n",
            "      col1  col2  col3  col4\n",
            "col2                        \n",
            "6        1     6    11    16\n",
            "7        2     7    12    17\n",
            "8        3     8    13    18\n",
            "9        4     9    14    19\n",
            "10       5    10    15    20\n",
            "------------------------------------------------------------------\n",
            "      col2  col3  col4\n",
            "col1                  \n",
            "1        6    11    16\n",
            "2        7    12    17\n",
            "3        8    13    18\n",
            "4        9    14    19\n",
            "5       10    15    20\n"
          ]
        }
      ]
    },
    {
      "cell_type": "code",
      "source": [
        "# 데이터 이어붙이기\n",
        "arr_  = np.arange(12).reshape((3,4)) \n",
        "arr_2 = np.concatenate([arr_,arr_], axis=1)\n",
        "print(arr_2)\n",
        "print('-----------------------------------------------')\n",
        "\n",
        "A_1 = pd.Series([0,1], index=['a','b'])\n",
        "A_2 = pd.Series([2,3,4], index=['c','d','e'])\n",
        "A_3 = pd.Series([5,6], index=['f','g'])\n",
        "\n",
        "A_A = pd.concat([A_1,A_2,A_3])\n",
        "print(A_A)\n",
        "print('-----------------------------------------------')\n",
        "A_A_2 = pd.concat([A_1,A_2,A_3], axis = 1) # axis =1 로 설정하면 DataFrame으로 설정됨\n",
        "print(A_A_2)"
      ],
      "metadata": {
        "colab": {
          "base_uri": "https://localhost:8080/"
        },
        "id": "EHDpd-yINU8d",
        "outputId": "01b1c774-85fe-40f6-90b9-e047724fa6a1"
      },
      "execution_count": null,
      "outputs": [
        {
          "output_type": "stream",
          "name": "stdout",
          "text": [
            "[[ 0  1  2  3  0  1  2  3]\n",
            " [ 4  5  6  7  4  5  6  7]\n",
            " [ 8  9 10 11  8  9 10 11]]\n",
            "-----------------------------------------------\n",
            "a    0\n",
            "b    1\n",
            "c    2\n",
            "d    3\n",
            "e    4\n",
            "f    5\n",
            "g    6\n",
            "dtype: int64\n",
            "-----------------------------------------------\n",
            "     0    1    2\n",
            "a  0.0  NaN  NaN\n",
            "b  1.0  NaN  NaN\n",
            "c  NaN  2.0  NaN\n",
            "d  NaN  3.0  NaN\n",
            "e  NaN  4.0  NaN\n",
            "f  NaN  NaN  5.0\n",
            "g  NaN  NaN  6.0\n"
          ]
        }
      ]
    },
    {
      "cell_type": "code",
      "source": [
        "# 피벗\n",
        "list_ = pd.DataFrame(np.arange(6).reshape((2,3)), index = pd.Index(['A','B'], name = 'state'), columns= pd.Index(['one', 'tow','three'], name = 'number'))\n",
        "print(list_)\n",
        "print('----------------------------------------------------------')\n",
        "list_2 = list_.stack()\n",
        "print(list_2) # stack 피벗 진행\n",
        "print('----------------------------------------------------------')\n",
        "print(list_2.unstack()) # 다시 원상복구!\n",
        "print('----------------------------------------------------------')\n",
        "print(list_2.unstack(0)) # 컬럼 로우 index 회전"
      ],
      "metadata": {
        "colab": {
          "base_uri": "https://localhost:8080/"
        },
        "id": "FKx_kIL-YfD9",
        "outputId": "18df5c26-93af-4a90-dbff-3d95305c4fd3"
      },
      "execution_count": 6,
      "outputs": [
        {
          "output_type": "stream",
          "name": "stdout",
          "text": [
            "number  one  tow  three\n",
            "state                  \n",
            "A         0    1      2\n",
            "B         3    4      5\n",
            "----------------------------------------------------------\n",
            "state  number\n",
            "A      one       0\n",
            "       tow       1\n",
            "       three     2\n",
            "B      one       3\n",
            "       tow       4\n",
            "       three     5\n",
            "dtype: int64\n",
            "----------------------------------------------------------\n",
            "number  one  tow  three\n",
            "state                  \n",
            "A         0    1      2\n",
            "B         3    4      5\n",
            "----------------------------------------------------------\n",
            "state   A  B\n",
            "number      \n",
            "one     0  3\n",
            "tow     1  4\n",
            "three   2  5\n"
          ]
        }
      ]
    }
  ]
}